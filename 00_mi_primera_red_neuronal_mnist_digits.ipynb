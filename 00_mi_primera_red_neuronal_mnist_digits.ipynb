{
 "cells": [
  {
   "cell_type": "markdown",
   "id": "05ecf14e-512b-41ad-b478-519734cfb722",
   "metadata": {},
   "source": [
    "## Instalación de dependencias"
   ]
  },
  {
   "cell_type": "code",
   "execution_count": 26,
   "id": "114f3b4e-e1f5-439f-9b33-25974e7ed563",
   "metadata": {},
   "outputs": [
    {
     "name": "stdout",
     "output_type": "stream",
     "text": [
      "Requirement already satisfied: tensorflow in ./venv/lib/python3.11/site-packages (2.15.0)\n",
      "Requirement already satisfied: tensorflow-macos==2.15.0 in ./venv/lib/python3.11/site-packages (from tensorflow) (2.15.0)\n",
      "Requirement already satisfied: absl-py>=1.0.0 in ./venv/lib/python3.11/site-packages (from tensorflow-macos==2.15.0->tensorflow) (2.1.0)\n",
      "Requirement already satisfied: astunparse>=1.6.0 in ./venv/lib/python3.11/site-packages (from tensorflow-macos==2.15.0->tensorflow) (1.6.3)\n",
      "Requirement already satisfied: flatbuffers>=23.5.26 in ./venv/lib/python3.11/site-packages (from tensorflow-macos==2.15.0->tensorflow) (23.5.26)\n",
      "Requirement already satisfied: gast!=0.5.0,!=0.5.1,!=0.5.2,>=0.2.1 in ./venv/lib/python3.11/site-packages (from tensorflow-macos==2.15.0->tensorflow) (0.5.4)\n",
      "Requirement already satisfied: google-pasta>=0.1.1 in ./venv/lib/python3.11/site-packages (from tensorflow-macos==2.15.0->tensorflow) (0.2.0)\n",
      "Requirement already satisfied: h5py>=2.9.0 in ./venv/lib/python3.11/site-packages (from tensorflow-macos==2.15.0->tensorflow) (3.10.0)\n",
      "Requirement already satisfied: libclang>=13.0.0 in ./venv/lib/python3.11/site-packages (from tensorflow-macos==2.15.0->tensorflow) (16.0.6)\n",
      "Requirement already satisfied: ml-dtypes~=0.2.0 in ./venv/lib/python3.11/site-packages (from tensorflow-macos==2.15.0->tensorflow) (0.2.0)\n",
      "Requirement already satisfied: numpy<2.0.0,>=1.23.5 in ./venv/lib/python3.11/site-packages (from tensorflow-macos==2.15.0->tensorflow) (1.26.3)\n",
      "Requirement already satisfied: opt-einsum>=2.3.2 in ./venv/lib/python3.11/site-packages (from tensorflow-macos==2.15.0->tensorflow) (3.3.0)\n",
      "Requirement already satisfied: packaging in ./venv/lib/python3.11/site-packages (from tensorflow-macos==2.15.0->tensorflow) (23.2)\n",
      "Requirement already satisfied: protobuf!=4.21.0,!=4.21.1,!=4.21.2,!=4.21.3,!=4.21.4,!=4.21.5,<5.0.0dev,>=3.20.3 in ./venv/lib/python3.11/site-packages (from tensorflow-macos==2.15.0->tensorflow) (4.23.4)\n",
      "Requirement already satisfied: setuptools in ./venv/lib/python3.11/site-packages (from tensorflow-macos==2.15.0->tensorflow) (68.2.2)\n",
      "Requirement already satisfied: six>=1.12.0 in ./venv/lib/python3.11/site-packages (from tensorflow-macos==2.15.0->tensorflow) (1.16.0)\n",
      "Requirement already satisfied: termcolor>=1.1.0 in ./venv/lib/python3.11/site-packages (from tensorflow-macos==2.15.0->tensorflow) (2.4.0)\n",
      "Requirement already satisfied: typing-extensions>=3.6.6 in ./venv/lib/python3.11/site-packages (from tensorflow-macos==2.15.0->tensorflow) (4.9.0)\n",
      "Requirement already satisfied: wrapt<1.15,>=1.11.0 in ./venv/lib/python3.11/site-packages (from tensorflow-macos==2.15.0->tensorflow) (1.14.1)\n",
      "Requirement already satisfied: tensorflow-io-gcs-filesystem>=0.23.1 in ./venv/lib/python3.11/site-packages (from tensorflow-macos==2.15.0->tensorflow) (0.34.0)\n",
      "Requirement already satisfied: grpcio<2.0,>=1.24.3 in ./venv/lib/python3.11/site-packages (from tensorflow-macos==2.15.0->tensorflow) (1.60.0)\n",
      "Requirement already satisfied: tensorboard<2.16,>=2.15 in ./venv/lib/python3.11/site-packages (from tensorflow-macos==2.15.0->tensorflow) (2.15.1)\n",
      "Requirement already satisfied: tensorflow-estimator<2.16,>=2.15.0 in ./venv/lib/python3.11/site-packages (from tensorflow-macos==2.15.0->tensorflow) (2.15.0)\n",
      "Requirement already satisfied: keras<2.16,>=2.15.0 in ./venv/lib/python3.11/site-packages (from tensorflow-macos==2.15.0->tensorflow) (2.15.0)\n",
      "Requirement already satisfied: wheel<1.0,>=0.23.0 in ./venv/lib/python3.11/site-packages (from astunparse>=1.6.0->tensorflow-macos==2.15.0->tensorflow) (0.42.0)\n",
      "Requirement already satisfied: google-auth<3,>=1.6.3 in ./venv/lib/python3.11/site-packages (from tensorboard<2.16,>=2.15->tensorflow-macos==2.15.0->tensorflow) (2.27.0)\n",
      "Requirement already satisfied: google-auth-oauthlib<2,>=0.5 in ./venv/lib/python3.11/site-packages (from tensorboard<2.16,>=2.15->tensorflow-macos==2.15.0->tensorflow) (1.2.0)\n",
      "Requirement already satisfied: markdown>=2.6.8 in ./venv/lib/python3.11/site-packages (from tensorboard<2.16,>=2.15->tensorflow-macos==2.15.0->tensorflow) (3.5.2)\n",
      "Requirement already satisfied: requests<3,>=2.21.0 in ./venv/lib/python3.11/site-packages (from tensorboard<2.16,>=2.15->tensorflow-macos==2.15.0->tensorflow) (2.31.0)\n",
      "Requirement already satisfied: tensorboard-data-server<0.8.0,>=0.7.0 in ./venv/lib/python3.11/site-packages (from tensorboard<2.16,>=2.15->tensorflow-macos==2.15.0->tensorflow) (0.7.2)\n",
      "Requirement already satisfied: werkzeug>=1.0.1 in ./venv/lib/python3.11/site-packages (from tensorboard<2.16,>=2.15->tensorflow-macos==2.15.0->tensorflow) (3.0.1)\n",
      "Requirement already satisfied: cachetools<6.0,>=2.0.0 in ./venv/lib/python3.11/site-packages (from google-auth<3,>=1.6.3->tensorboard<2.16,>=2.15->tensorflow-macos==2.15.0->tensorflow) (5.3.2)\n",
      "Requirement already satisfied: pyasn1-modules>=0.2.1 in ./venv/lib/python3.11/site-packages (from google-auth<3,>=1.6.3->tensorboard<2.16,>=2.15->tensorflow-macos==2.15.0->tensorflow) (0.3.0)\n",
      "Requirement already satisfied: rsa<5,>=3.1.4 in ./venv/lib/python3.11/site-packages (from google-auth<3,>=1.6.3->tensorboard<2.16,>=2.15->tensorflow-macos==2.15.0->tensorflow) (4.9)\n",
      "Requirement already satisfied: requests-oauthlib>=0.7.0 in ./venv/lib/python3.11/site-packages (from google-auth-oauthlib<2,>=0.5->tensorboard<2.16,>=2.15->tensorflow-macos==2.15.0->tensorflow) (1.3.1)\n",
      "Requirement already satisfied: charset-normalizer<4,>=2 in ./venv/lib/python3.11/site-packages (from requests<3,>=2.21.0->tensorboard<2.16,>=2.15->tensorflow-macos==2.15.0->tensorflow) (3.3.2)\n",
      "Requirement already satisfied: idna<4,>=2.5 in ./venv/lib/python3.11/site-packages (from requests<3,>=2.21.0->tensorboard<2.16,>=2.15->tensorflow-macos==2.15.0->tensorflow) (3.6)\n",
      "Requirement already satisfied: urllib3<3,>=1.21.1 in ./venv/lib/python3.11/site-packages (from requests<3,>=2.21.0->tensorboard<2.16,>=2.15->tensorflow-macos==2.15.0->tensorflow) (2.2.0)\n",
      "Requirement already satisfied: certifi>=2017.4.17 in ./venv/lib/python3.11/site-packages (from requests<3,>=2.21.0->tensorboard<2.16,>=2.15->tensorflow-macos==2.15.0->tensorflow) (2023.11.17)\n",
      "Requirement already satisfied: MarkupSafe>=2.1.1 in ./venv/lib/python3.11/site-packages (from werkzeug>=1.0.1->tensorboard<2.16,>=2.15->tensorflow-macos==2.15.0->tensorflow) (2.1.4)\n",
      "Requirement already satisfied: pyasn1<0.6.0,>=0.4.6 in ./venv/lib/python3.11/site-packages (from pyasn1-modules>=0.2.1->google-auth<3,>=1.6.3->tensorboard<2.16,>=2.15->tensorflow-macos==2.15.0->tensorflow) (0.5.1)\n",
      "Requirement already satisfied: oauthlib>=3.0.0 in ./venv/lib/python3.11/site-packages (from requests-oauthlib>=0.7.0->google-auth-oauthlib<2,>=0.5->tensorboard<2.16,>=2.15->tensorflow-macos==2.15.0->tensorflow) (3.2.2)\n",
      "\n",
      "\u001b[1m[\u001b[0m\u001b[34;49mnotice\u001b[0m\u001b[1;39;49m]\u001b[0m\u001b[39;49m A new release of pip is available: \u001b[0m\u001b[31;49m23.3.1\u001b[0m\u001b[39;49m -> \u001b[0m\u001b[32;49m23.3.2\u001b[0m\n",
      "\u001b[1m[\u001b[0m\u001b[34;49mnotice\u001b[0m\u001b[1;39;49m]\u001b[0m\u001b[39;49m To update, run: \u001b[0m\u001b[32;49mpip install --upgrade pip\u001b[0m\n",
      "Note: you may need to restart the kernel to use updated packages.\n",
      "Requirement already satisfied: numpy in ./venv/lib/python3.11/site-packages (1.26.3)\n",
      "\n",
      "\u001b[1m[\u001b[0m\u001b[34;49mnotice\u001b[0m\u001b[1;39;49m]\u001b[0m\u001b[39;49m A new release of pip is available: \u001b[0m\u001b[31;49m23.3.1\u001b[0m\u001b[39;49m -> \u001b[0m\u001b[32;49m23.3.2\u001b[0m\n",
      "\u001b[1m[\u001b[0m\u001b[34;49mnotice\u001b[0m\u001b[1;39;49m]\u001b[0m\u001b[39;49m To update, run: \u001b[0m\u001b[32;49mpip install --upgrade pip\u001b[0m\n",
      "Note: you may need to restart the kernel to use updated packages.\n",
      "Requirement already satisfied: matplotlib in ./venv/lib/python3.11/site-packages (3.8.2)\n",
      "Requirement already satisfied: contourpy>=1.0.1 in ./venv/lib/python3.11/site-packages (from matplotlib) (1.2.0)\n",
      "Requirement already satisfied: cycler>=0.10 in ./venv/lib/python3.11/site-packages (from matplotlib) (0.12.1)\n",
      "Requirement already satisfied: fonttools>=4.22.0 in ./venv/lib/python3.11/site-packages (from matplotlib) (4.47.2)\n",
      "Requirement already satisfied: kiwisolver>=1.3.1 in ./venv/lib/python3.11/site-packages (from matplotlib) (1.4.5)\n",
      "Requirement already satisfied: numpy<2,>=1.21 in ./venv/lib/python3.11/site-packages (from matplotlib) (1.26.3)\n",
      "Requirement already satisfied: packaging>=20.0 in ./venv/lib/python3.11/site-packages (from matplotlib) (23.2)\n",
      "Requirement already satisfied: pillow>=8 in ./venv/lib/python3.11/site-packages (from matplotlib) (10.2.0)\n",
      "Requirement already satisfied: pyparsing>=2.3.1 in ./venv/lib/python3.11/site-packages (from matplotlib) (3.1.1)\n",
      "Requirement already satisfied: python-dateutil>=2.7 in ./venv/lib/python3.11/site-packages (from matplotlib) (2.8.2)\n",
      "Requirement already satisfied: six>=1.5 in ./venv/lib/python3.11/site-packages (from python-dateutil>=2.7->matplotlib) (1.16.0)\n",
      "\n",
      "\u001b[1m[\u001b[0m\u001b[34;49mnotice\u001b[0m\u001b[1;39;49m]\u001b[0m\u001b[39;49m A new release of pip is available: \u001b[0m\u001b[31;49m23.3.1\u001b[0m\u001b[39;49m -> \u001b[0m\u001b[32;49m23.3.2\u001b[0m\n",
      "\u001b[1m[\u001b[0m\u001b[34;49mnotice\u001b[0m\u001b[1;39;49m]\u001b[0m\u001b[39;49m To update, run: \u001b[0m\u001b[32;49mpip install --upgrade pip\u001b[0m\n",
      "Note: you may need to restart the kernel to use updated packages.\n"
     ]
    }
   ],
   "source": [
    "%pip install tensorflow\n",
    "%pip install numpy\n",
    "%pip install matplotlib"
   ]
  },
  {
   "cell_type": "code",
   "execution_count": 27,
   "id": "09cfb727-7e1f-4a6f-9234-79668be1914e",
   "metadata": {},
   "outputs": [
    {
     "name": "stdout",
     "output_type": "stream",
     "text": [
      "2.15.0\n"
     ]
    }
   ],
   "source": [
    "import tensorflow as tf\n",
    "import numpy as np\n",
    "import matplotlib.pyplot as plt\n",
    "\n",
    "print(tf.__version__)\n"
   ]
  },
  {
   "cell_type": "markdown",
   "id": "fcb5dc49",
   "metadata": {},
   "source": [
    "minist ya viene incluido en Keras. MNIST es el conjunto de datos que usaremos y son los dígitos manuscritos en formato 28x28 píxeles"
   ]
  },
  {
   "cell_type": "code",
   "execution_count": 28,
   "id": "78d5ec9b-35fe-4d0e-8ae5-db680a4b194d",
   "metadata": {},
   "outputs": [],
   "source": [
    "mnist = tf.keras.datasets.mnist"
   ]
  },
  {
   "cell_type": "markdown",
   "id": "685dba84",
   "metadata": {},
   "source": [
    "Creamos los sets de entrenamiento"
   ]
  },
  {
   "cell_type": "code",
   "execution_count": null,
   "id": "7a3ff689-ce27-43c1-ac0c-6a13ee73851b",
   "metadata": {},
   "outputs": [],
   "source": [
    "(x_train, y_train), (x_test, y_test) = mnist.load_data()\n",
    "plt.imshow(x_train[9], cmap=plt.cm.binary)\n",
    "print(y_train[9])"
   ]
  },
  {
   "cell_type": "markdown",
   "id": "d70b1290-05ed-4a8f-9680-0fde7b669401",
   "metadata": {},
   "source": [
    "Miramos el número de ejes del tensor x_train entre otras caractterísticas. Simplemente como ejercicio para aprender a manejarnos con tensores."
   ]
  },
  {
   "cell_type": "code",
   "execution_count": 32,
   "id": "14efe741-213b-4bde-a26a-d02d319ddc2a",
   "metadata": {},
   "outputs": [
    {
     "name": "stdout",
     "output_type": "stream",
     "text": [
      "3\n"
     ]
    }
   ],
   "source": [
    "print(\"El número de ejes del tensor es: \", x_train.ndim)\n",
    "print(\"Nuestro tensor queda configurado así: \", x_train.shape)\n",
    "print(\"El tipo de dato que contiene el tensor es: \", x_train.dtype)\n",
    "print(\"El valor máximo que contiene el tensor es: \", x_train.max())\n",
    "print(\"El valor mínimo que contiene el tensor es: \", x_train.min())"
   ]
  },
  {
   "cell_type": "markdown",
   "id": "957ee29b-8cf9-44b7-bb0a-62eb43428c36",
   "metadata": {},
   "source": [
    "En resumen, x_train es un tensor de tres dimensiones de enteros de 8 bits. Más concretamente se trata de un vector de 60000 matrices 2D de 28x28 enteros. Cada una de esas matrices es una imagen en ecala de grises, con coeficientes entre 0 y 255"
   ]
  },
  {
   "cell_type": "markdown",
   "id": "0eca5589-ea0e-4da2-80e0-c8d0c22fea72",
   "metadata": {},
   "source": [
    "## Normalización de los datos"
   ]
  },
  {
   "cell_type": "code",
   "execution_count": 35,
   "id": "8138fcb2-f34a-4392-bdcb-eb40335bfdc0",
   "metadata": {},
   "outputs": [],
   "source": [
    "x_train = x_train.astype('float32')\n",
    "x_test = x_test.astype('float32')"
   ]
  },
  {
   "cell_type": "markdown",
   "id": "363620f1-9b8a-401c-877c-ecf64158910c",
   "metadata": {},
   "source": [
    "Otra tarnsformación que se requiere a veces es cambiar la forma de los tensores sin cambiar los datos. En esta ocasión, vamos a cambiar la matriz de 28x28 a un vector de 784 números ya que nuestra red neuronal completamente conectada acepta como entrada dicho formato"
   ]
  },
  {
   "cell_type": "code",
   "execution_count": 37,
   "id": "563acfe6-0788-44ba-a9b7-e3d5774074c8",
   "metadata": {},
   "outputs": [],
   "source": [
    "x_train = x_train.reshape(60000, 784)\n",
    "x_test = x_test.reshape(10000, 784)"
   ]
  },
  {
   "cell_type": "markdown",
   "id": "77cf893e-5c40-497d-84f6-7aabde8e0df5",
   "metadata": {},
   "source": [
    "Ahora llega el turno de las  **labels**. Para ello vamos a utilizar la codificación one-hot. Esto es, un vector de 10 elementos, uno por cada dígito del 0 al 9. Por ejemplo, para el número 1, el vector quedaría como `[0,1,0,0,0,0,0,0,0,0]` y para el 8 `[0,0,0,0,0,0,0,0,1,0]`"
   ]
  },
  {
   "cell_type": "code",
   "execution_count": 38,
   "id": "d1f5b29e-d5f6-4a65-ac35-4c10b4836b8d",
   "metadata": {},
   "outputs": [],
   "source": [
    "from tensorflow.keras.utils import to_categorical"
   ]
  },
  {
   "cell_type": "code",
   "execution_count": 39,
   "id": "5db993a2-ffc9-4507-98b3-aff41e4e69bf",
   "metadata": {},
   "outputs": [
    {
     "name": "stdout",
     "output_type": "stream",
     "text": [
      "[0. 0. 0. 0. 0. 0. 0. 1. 0. 0.]\n"
     ]
    }
   ],
   "source": [
    "y_train = to_categorical(y_train, num_classes=10)\n",
    "y_test = to_categorical(y_test, num_classes=10)\n",
    "\n",
    "print(y_test[0])"
   ]
  },
  {
   "cell_type": "markdown",
   "id": "ac08a51e-a728-4067-a33b-a8aeed5f7826",
   "metadata": {},
   "source": [
    "## Definición del modelo"
   ]
  },
  {
   "cell_type": "markdown",
   "id": "b01fa6c1-1473-4333-9365-c996b60b6e44",
   "metadata": {},
   "source": [
    "Keras es una biblioteca de aprendizaje profundo de alto nivel que se construye sobre TensorFlow (y otras bibliotecas de backend), y está diseñada para permitir la construcción rápida y fácil de modelos de aprendizaje automático. En Keras, la estructura de datos principal para construir redes neuronales es la clase Sequential.\n",
    "\n",
    "La clase Sequential en Keras es una forma de crear modelos como una pila lineal de capas. Es la manera más sencilla de construir un modelo en Keras. Con Sequential, puedes crear un modelo añadiendo capas en orden, una tras otra, lo que facilita el prototipado rápido de modelos que tienen una sola entrada y una sola salida, con una topología de capas que forman una pila lineal."
   ]
  },
  {
   "cell_type": "code",
   "execution_count": 10,
   "id": "72d7c355-ca35-432f-a3d1-65a0393c8f44",
   "metadata": {},
   "outputs": [],
   "source": [
    "from keras.models import Sequential\n",
    "from keras.layers import Dense\n",
    "\n",
    "# Crear el modelo secuencial\n",
    "model = Sequential()\n",
    "\n",
    "# Añadir la primera capa (capa de entrada)\n",
    "model.add(Dense(units=10, activation='sigmoid', input_shape=(784,)))\n",
    "          \n",
    "# Añadimos la segunda capa(capa de salida)\n",
    "model.add(Dense(10, activation='softmax'))\n"
   ]
  },
  {
   "cell_type": "markdown",
   "id": "38f42faa-597c-4c13-a9f0-d1c6ff790d10",
   "metadata": {},
   "source": [
    "Como vemos la entrada es el tensor de 784 elementos que son los dígitos del 0 al 10 que transformamos a vectores one-hot.\n",
    "\n",
    "Para cada capa hemos indicado el número de nodos, 10 y la función de ativación. La sigmoid para la primera capa y la sofmax para la capa de salida. Esto significa que la salida será una matriz de 10 valores, una dimensión por cada dígito con la probabilidad asociada a que sea dicho dígito. Es necesario recordad que la suma de todas las probabilidades debe ser 1."
   ]
  },
  {
   "cell_type": "markdown",
   "id": "edca4b91-b720-4d39-b9f0-159520783961",
   "metadata": {},
   "source": [
    "Con `model.summary()` Keras nos devuielve la arquitectura del modelo"
   ]
  },
  {
   "cell_type": "code",
   "execution_count": 11,
   "id": "d05480b5-7e98-4fb8-8997-ee27c9e6cfe9",
   "metadata": {},
   "outputs": [
    {
     "name": "stdout",
     "output_type": "stream",
     "text": [
      "Model: \"sequential\"\n",
      "_________________________________________________________________\n",
      " Layer (type)                Output Shape              Param #   \n",
      "=================================================================\n",
      " dense (Dense)               (None, 10)                7850      \n",
      "                                                                 \n",
      " dense_1 (Dense)             (None, 10)                110       \n",
      "                                                                 \n",
      "=================================================================\n",
      "Total params: 7960 (31.09 KB)\n",
      "Trainable params: 7960 (31.09 KB)\n",
      "Non-trainable params: 0 (0.00 Byte)\n",
      "_________________________________________________________________\n"
     ]
    }
   ],
   "source": [
    "model.summary()"
   ]
  },
  {
   "cell_type": "markdown",
   "id": "d49ac11f-fa41-4e65-a2ee-1a2b055bd118",
   "metadata": {},
   "source": [
    "## Configuración del proceso de aprendizaje\n",
    "Ahora usamos el método `compile()`para configurar el proceso de entrenamiento.\n",
    "\n",
    "Aquí definiremos algunos argumentos como la función de pérdida o coste **loss function** que usaremos para evaluar el error de la salidas calculadas frente a las deseadas.\n",
    "\n",
    "También debemos indicar el **optimizador** que emplearemos que no es otra cosa que decirle a la red neuronal cómo debe ajustar los pesos de los parámetros durante el enrenamiento a partir de los datos de entrada y de la función de coste definida.\n",
    "\n",
    "Finalmente debemos indicar la métrica que usaremos para monitorizar el proceso de aprendizaje y prueba de nuestra red neuronal.\n"
   ]
  },
  {
   "cell_type": "code",
   "execution_count": 12,
   "id": "497c4c88-1877-4bf9-99d2-707bfc5f2c33",
   "metadata": {},
   "outputs": [],
   "source": [
    "model.compile(loss=\"categorical_crossentropy\", optimizer=\"sgd\", metrics=['accuracy'])"
   ]
  },
  {
   "cell_type": "markdown",
   "id": "ec1b2b49-3e06-4733-9afc-1120e2f52840",
   "metadata": {},
   "source": [
    "## Entrenamiento del Modelo\n",
    "Ahora ya sabemos los datos del modelo y estan normalizados y además hemos configurado como será el entrenamiento. Ahora nos queda ajustar el modelo a los datos de entrenamiento a través de la función `fit()` indicándole los datos de entrenamiento, los de test y el número de pasadas o epochs"
   ]
  },
  {
   "cell_type": "code",
   "execution_count": 18,
   "id": "30a8100e-d700-4d43-b363-8f2666de8107",
   "metadata": {},
   "outputs": [
    {
     "name": "stdout",
     "output_type": "stream",
     "text": [
      "Epoch 1/10\n",
      "1875/1875 [==============================] - 1s 302us/step - loss: 0.7089 - accuracy: 0.7772\n",
      "Epoch 2/10\n",
      "1875/1875 [==============================] - 1s 296us/step - loss: 0.6776 - accuracy: 0.7900\n",
      "Epoch 3/10\n",
      "1875/1875 [==============================] - 1s 304us/step - loss: 0.6719 - accuracy: 0.7992\n",
      "Epoch 4/10\n",
      "1875/1875 [==============================] - 1s 299us/step - loss: 0.6352 - accuracy: 0.8092\n",
      "Epoch 5/10\n",
      "1875/1875 [==============================] - 1s 296us/step - loss: 0.6131 - accuracy: 0.8152\n",
      "Epoch 6/10\n",
      "1875/1875 [==============================] - 1s 294us/step - loss: 0.6219 - accuracy: 0.8121\n",
      "Epoch 7/10\n",
      "1875/1875 [==============================] - 1s 297us/step - loss: 0.5864 - accuracy: 0.8280\n",
      "Epoch 8/10\n",
      "1875/1875 [==============================] - 1s 301us/step - loss: 0.5681 - accuracy: 0.8384\n",
      "Epoch 9/10\n",
      "1875/1875 [==============================] - 1s 299us/step - loss: 0.5755 - accuracy: 0.8354\n",
      "Epoch 10/10\n",
      "1875/1875 [==============================] - 1s 294us/step - loss: 0.5552 - accuracy: 0.8381\n"
     ]
    },
    {
     "data": {
      "text/plain": [
       "<keras.src.callbacks.History at 0x29537db10>"
      ]
     },
     "execution_count": 18,
     "metadata": {},
     "output_type": "execute_result"
    }
   ],
   "source": [
    "model.fit(x_train, y_train, epochs = 10)"
   ]
  },
  {
   "cell_type": "markdown",
   "id": "7988a944",
   "metadata": {},
   "source": [
    "Básicamente. En cada epoch, se meten los datos de x_train en la red neuronal, se comparan con los datos de y_train y se obtiene la pérdida asociada a ese epoch para así poder ajustar los parámetros de la red en la siguiente epoch"
   ]
  },
  {
   "cell_type": "markdown",
   "id": "2745271a",
   "metadata": {},
   "source": [
    "## Evaluación del modelo"
   ]
  },
  {
   "cell_type": "code",
   "execution_count": 19,
   "id": "b8838c86",
   "metadata": {},
   "outputs": [
    {
     "name": "stdout",
     "output_type": "stream",
     "text": [
      "313/313 [==============================] - 0s 313us/step - loss: 0.5803 - accuracy: 0.8333\n"
     ]
    }
   ],
   "source": [
    "test_loss, test_acc = model.evaluate(x_test, y_test)"
   ]
  },
  {
   "cell_type": "code",
   "execution_count": 20,
   "id": "fc943463",
   "metadata": {},
   "outputs": [
    {
     "name": "stdout",
     "output_type": "stream",
     "text": [
      "Test accuracy: 0.833299994468689\n"
     ]
    }
   ],
   "source": [
    "print('Test accuracy:', test_acc)"
   ]
  },
  {
   "cell_type": "code",
   "execution_count": 21,
   "id": "231ed758",
   "metadata": {},
   "outputs": [
    {
     "name": "stdout",
     "output_type": "stream",
     "text": [
      "Test loss: 0.580314576625824\n"
     ]
    }
   ],
   "source": [
    "print('Test loss:', test_loss)"
   ]
  },
  {
   "cell_type": "markdown",
   "id": "821f69b5",
   "metadata": {},
   "source": [
    "Sigamos con un poco de terminología que es necesaria para obetener una buena base:\n",
    "\n",
    "- La accuracy o precisión del modelo nos que este modelo clasifica un 83% los dígitos de manera correcta. \n",
    "- Loss nos indica que cuando el modelo se equivoca, lo hace con un margen del 0.5.\n",
    "\n",
    "Es decir, buscamos una precisión alta y una loss baja\n",
    "\n",
    "Y aunque para este ejercicio es suficiente. Es necesario que aprendamos estos conceptos de una matriz de confusión:\n",
    "\n",
    "- Verdaderos Positivos. Es la cantidad de positivos que fueron clasificados como tales por el modelo.\n",
    "- Verdaderos Negativos. Es la cantidad de negativos que fueron clasificados como tales por el modelo.\n",
    "- Falsos Positivos. Es la cantidad de positivos que fueron incorrectamente clasificados como negativos por el modelo.\n",
    "- Falsos Negativos. Es la cantidad de negativos que fueron clasificados incorrectamente como positivos por el modelo.\n",
    "\n",
    "**Precisión** es *(VP + VN) / (VP + VN + FP + FN)**. Es decir la suma de los aciertos dividido entre la suma de los aciertos y los fallos.\n",
    "\n",
    "**Recall** es VP/(VP+FN). Esta métrica nos indica cómo de bien el modelo evita los falsos negativos. Es decir si clasificamos bicicletas, del total de bicicletas observadas como bicicletas de triatlón de manera positiva, cuantas detecta el modelo realmente.\n",
    "\n"
   ]
  },
  {
   "cell_type": "markdown",
   "id": "10c43f92",
   "metadata": {},
   "source": [
    "## Generación de preducciones"
   ]
  },
  {
   "cell_type": "code",
   "execution_count": 47,
   "id": "c74d366a",
   "metadata": {},
   "outputs": [
    {
     "data": {
      "text/plain": [
       "6"
      ]
     },
     "execution_count": 47,
     "metadata": {},
     "output_type": "execute_result"
    }
   ],
   "source": [
    "np.argmax(predictions[11])"
   ]
  },
  {
   "cell_type": "markdown",
   "id": "23603b94",
   "metadata": {},
   "source": []
  }
 ],
 "metadata": {
  "kernelspec": {
   "display_name": "Python 3 (ipykernel)",
   "language": "python",
   "name": "python3"
  },
  "language_info": {
   "codemirror_mode": {
    "name": "ipython",
    "version": 3
   },
   "file_extension": ".py",
   "mimetype": "text/x-python",
   "name": "python",
   "nbconvert_exporter": "python",
   "pygments_lexer": "ipython3",
   "version": "3.11.6"
  }
 },
 "nbformat": 4,
 "nbformat_minor": 5
}
